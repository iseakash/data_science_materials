{
 "cells": [
  {
   "cell_type": "code",
   "execution_count": 1,
   "metadata": {},
   "outputs": [],
   "source": [
    "import pandas as pd"
   ]
  },
  {
   "cell_type": "code",
   "execution_count": 3,
   "metadata": {},
   "outputs": [],
   "source": [
    "# Variables\n",
    "filename = 'time_series_data.csv'\n",
    "datetime = 'DateTime'\n",
    "tagname = 'TagName'\n",
    "value = 'Value'"
   ]
  },
  {
   "cell_type": "code",
   "execution_count": 2,
   "metadata": {},
   "outputs": [
    {
     "name": "stdout",
     "output_type": "stream",
     "text": [
      "df.shape:  (1025999, 3)\n"
     ]
    },
    {
     "data": {
      "text/html": [
       "<div>\n",
       "<style scoped>\n",
       "    .dataframe tbody tr th:only-of-type {\n",
       "        vertical-align: middle;\n",
       "    }\n",
       "\n",
       "    .dataframe tbody tr th {\n",
       "        vertical-align: top;\n",
       "    }\n",
       "\n",
       "    .dataframe thead th {\n",
       "        text-align: right;\n",
       "    }\n",
       "</style>\n",
       "<table border=\"1\" class=\"dataframe\">\n",
       "  <thead>\n",
       "    <tr style=\"text-align: right;\">\n",
       "      <th></th>\n",
       "      <th>DateTime</th>\n",
       "      <th>TagName</th>\n",
       "      <th>Value</th>\n",
       "    </tr>\n",
       "  </thead>\n",
       "  <tbody>\n",
       "    <tr>\n",
       "      <th>0</th>\n",
       "      <td>00:00.0</td>\n",
       "      <td>Pressure</td>\n",
       "      <td>60.862499</td>\n",
       "    </tr>\n",
       "    <tr>\n",
       "      <th>1</th>\n",
       "      <td>00:00.0</td>\n",
       "      <td>Bar Angle</td>\n",
       "      <td>38.530838</td>\n",
       "    </tr>\n",
       "    <tr>\n",
       "      <th>2</th>\n",
       "      <td>00:00.0</td>\n",
       "      <td>RS4R4 Height</td>\n",
       "      <td>0.373240</td>\n",
       "    </tr>\n",
       "    <tr>\n",
       "      <th>3</th>\n",
       "      <td>00:00.0</td>\n",
       "      <td>Pressure</td>\n",
       "      <td>60.937500</td>\n",
       "    </tr>\n",
       "    <tr>\n",
       "      <th>4</th>\n",
       "      <td>00:00.2</td>\n",
       "      <td>Bar Angle</td>\n",
       "      <td>38.577522</td>\n",
       "    </tr>\n",
       "  </tbody>\n",
       "</table>\n",
       "</div>"
      ],
      "text/plain": [
       "  DateTime       TagName      Value\n",
       "0  00:00.0      Pressure  60.862499\n",
       "1  00:00.0     Bar Angle  38.530838\n",
       "2  00:00.0  RS4R4 Height   0.373240\n",
       "3  00:00.0      Pressure  60.937500\n",
       "4  00:00.2     Bar Angle  38.577522"
      ]
     },
     "execution_count": 2,
     "metadata": {},
     "output_type": "execute_result"
    }
   ],
   "source": [
    "try:\n",
    "    df = pd.read_csv(filename)\n",
    "except Exception as e:\n",
    "    raise e\n",
    "print(\"df.shape: \", df.shape)\n",
    "df.head(5)"
   ]
  },
  {
   "cell_type": "code",
   "execution_count": 20,
   "metadata": {},
   "outputs": [
    {
     "data": {
      "text/plain": [
       "array(['Pressure', 'Bar Angle', 'RS4R4 Height', nan], dtype=object)"
      ]
     },
     "execution_count": 20,
     "metadata": {},
     "output_type": "execute_result"
    }
   ],
   "source": [
    "df[tagname].unique().tolist()"
   ]
  },
  {
   "cell_type": "code",
   "execution_count": 47,
   "metadata": {},
   "outputs": [
    {
     "name": "stdout",
     "output_type": "stream",
     "text": [
      "(107995, 3)\n",
      "df_pivot.shape:  (36000, 3)\n"
     ]
    },
    {
     "data": {
      "text/html": [
       "<div>\n",
       "<style scoped>\n",
       "    .dataframe tbody tr th:only-of-type {\n",
       "        vertical-align: middle;\n",
       "    }\n",
       "\n",
       "    .dataframe tbody tr th {\n",
       "        vertical-align: top;\n",
       "    }\n",
       "\n",
       "    .dataframe thead tr th {\n",
       "        text-align: left;\n",
       "    }\n",
       "\n",
       "    .dataframe thead tr:last-of-type th {\n",
       "        text-align: right;\n",
       "    }\n",
       "</style>\n",
       "<table border=\"1\" class=\"dataframe\">\n",
       "  <thead>\n",
       "    <tr>\n",
       "      <th></th>\n",
       "      <th colspan=\"3\" halign=\"left\">Value</th>\n",
       "    </tr>\n",
       "    <tr>\n",
       "      <th>TagName</th>\n",
       "      <th>Bar Angle</th>\n",
       "      <th>Pressure</th>\n",
       "      <th>RS4R4 Height</th>\n",
       "    </tr>\n",
       "    <tr>\n",
       "      <th>DateTime</th>\n",
       "      <th></th>\n",
       "      <th></th>\n",
       "      <th></th>\n",
       "    </tr>\n",
       "  </thead>\n",
       "  <tbody>\n",
       "    <tr>\n",
       "      <th>00:00.0</th>\n",
       "      <td>38.530838</td>\n",
       "      <td>60.862499</td>\n",
       "      <td>0.373240</td>\n",
       "    </tr>\n",
       "    <tr>\n",
       "      <th>00:00.1</th>\n",
       "      <td>24.827715</td>\n",
       "      <td>63.862499</td>\n",
       "      <td>0.367146</td>\n",
       "    </tr>\n",
       "    <tr>\n",
       "      <th>00:00.2</th>\n",
       "      <td>38.577522</td>\n",
       "      <td>67.087502</td>\n",
       "      <td>0.380824</td>\n",
       "    </tr>\n",
       "    <tr>\n",
       "      <th>00:00.3</th>\n",
       "      <td>30.103292</td>\n",
       "      <td>59.325001</td>\n",
       "      <td>0.405926</td>\n",
       "    </tr>\n",
       "    <tr>\n",
       "      <th>00:00.4</th>\n",
       "      <td>40.468254</td>\n",
       "      <td>69.487503</td>\n",
       "      <td>0.367880</td>\n",
       "    </tr>\n",
       "  </tbody>\n",
       "</table>\n",
       "</div>"
      ],
      "text/plain": [
       "              Value                        \n",
       "TagName   Bar Angle   Pressure RS4R4 Height\n",
       "DateTime                                   \n",
       "00:00.0   38.530838  60.862499     0.373240\n",
       "00:00.1   24.827715  63.862499     0.367146\n",
       "00:00.2   38.577522  67.087502     0.380824\n",
       "00:00.3   30.103292  59.325001     0.405926\n",
       "00:00.4   40.468254  69.487503     0.367880"
      ]
     },
     "execution_count": 47,
     "metadata": {},
     "output_type": "execute_result"
    }
   ],
   "source": [
    "df1 = df.drop_duplicates(subset=[datetime,tagname]).dropna().copy()\n",
    "print(df1.shape)\n",
    "# df_pivot = df1.pivot(index=datetime, columns=tagname, values=value).reset_index() # [datetime, ]\n",
    "df_pivot = pd.pivot_table(df1,index=[datetime], columns=tagname, values=[value])\n",
    "\n",
    "print(\"df_pivot.shape: \", df_pivot.shape)\n",
    "# df_pivot = df_pivot.drop([tagname], axis=1)\n",
    "# print(\"df_pivot.shape: \", df_pivot.shape)\n",
    "df_pivot.head(5)"
   ]
  },
  {
   "cell_type": "code",
   "execution_count": 44,
   "metadata": {},
   "outputs": [],
   "source": [
    "# df_pivot.rename(columns={tagname: 'index'}) # .drop([tagname], axis=1)"
   ]
  },
  {
   "cell_type": "code",
   "execution_count": 45,
   "metadata": {},
   "outputs": [
    {
     "data": {
      "text/html": [
       "<div>\n",
       "<style scoped>\n",
       "    .dataframe tbody tr th:only-of-type {\n",
       "        vertical-align: middle;\n",
       "    }\n",
       "\n",
       "    .dataframe tbody tr th {\n",
       "        vertical-align: top;\n",
       "    }\n",
       "\n",
       "    .dataframe thead th {\n",
       "        text-align: right;\n",
       "    }\n",
       "</style>\n",
       "<table border=\"1\" class=\"dataframe\">\n",
       "  <thead>\n",
       "    <tr style=\"text-align: right;\">\n",
       "      <th>TagName</th>\n",
       "      <th>DateTime</th>\n",
       "      <th>Bar Angle</th>\n",
       "      <th>Pressure</th>\n",
       "      <th>RS4R4 Height</th>\n",
       "    </tr>\n",
       "    <tr>\n",
       "      <th>index</th>\n",
       "      <th></th>\n",
       "      <th></th>\n",
       "      <th></th>\n",
       "      <th></th>\n",
       "    </tr>\n",
       "  </thead>\n",
       "  <tbody>\n",
       "    <tr>\n",
       "      <th>0</th>\n",
       "      <td>00:00.0</td>\n",
       "      <td>38.530838</td>\n",
       "      <td>60.862499</td>\n",
       "      <td>0.373240</td>\n",
       "    </tr>\n",
       "    <tr>\n",
       "      <th>1</th>\n",
       "      <td>00:00.1</td>\n",
       "      <td>24.827715</td>\n",
       "      <td>63.862499</td>\n",
       "      <td>0.367146</td>\n",
       "    </tr>\n",
       "    <tr>\n",
       "      <th>2</th>\n",
       "      <td>00:00.2</td>\n",
       "      <td>38.577522</td>\n",
       "      <td>67.087502</td>\n",
       "      <td>0.380824</td>\n",
       "    </tr>\n",
       "    <tr>\n",
       "      <th>3</th>\n",
       "      <td>00:00.3</td>\n",
       "      <td>30.103292</td>\n",
       "      <td>59.325001</td>\n",
       "      <td>0.405926</td>\n",
       "    </tr>\n",
       "    <tr>\n",
       "      <th>4</th>\n",
       "      <td>00:00.4</td>\n",
       "      <td>40.468254</td>\n",
       "      <td>69.487503</td>\n",
       "      <td>0.367880</td>\n",
       "    </tr>\n",
       "    <tr>\n",
       "      <th>...</th>\n",
       "      <td>...</td>\n",
       "      <td>...</td>\n",
       "      <td>...</td>\n",
       "      <td>...</td>\n",
       "    </tr>\n",
       "    <tr>\n",
       "      <th>35995</th>\n",
       "      <td>59:59.5</td>\n",
       "      <td>31.591225</td>\n",
       "      <td>63.037498</td>\n",
       "      <td>0.365850</td>\n",
       "    </tr>\n",
       "    <tr>\n",
       "      <th>35996</th>\n",
       "      <td>59:59.6</td>\n",
       "      <td>49.600544</td>\n",
       "      <td>59.174999</td>\n",
       "      <td>0.368818</td>\n",
       "    </tr>\n",
       "    <tr>\n",
       "      <th>35997</th>\n",
       "      <td>59:59.7</td>\n",
       "      <td>45.665257</td>\n",
       "      <td>102.525002</td>\n",
       "      <td>0.381412</td>\n",
       "    </tr>\n",
       "    <tr>\n",
       "      <th>35998</th>\n",
       "      <td>59:59.8</td>\n",
       "      <td>48.228031</td>\n",
       "      <td>65.699997</td>\n",
       "      <td>0.366440</td>\n",
       "    </tr>\n",
       "    <tr>\n",
       "      <th>35999</th>\n",
       "      <td>59:59.9</td>\n",
       "      <td>20.098412</td>\n",
       "      <td>104.700005</td>\n",
       "      <td>0.375993</td>\n",
       "    </tr>\n",
       "  </tbody>\n",
       "</table>\n",
       "<p>36000 rows × 4 columns</p>\n",
       "</div>"
      ],
      "text/plain": [
       "TagName DateTime  Bar Angle    Pressure  RS4R4 Height\n",
       "index                                                \n",
       "0        00:00.0  38.530838   60.862499      0.373240\n",
       "1        00:00.1  24.827715   63.862499      0.367146\n",
       "2        00:00.2  38.577522   67.087502      0.380824\n",
       "3        00:00.3  30.103292   59.325001      0.405926\n",
       "4        00:00.4  40.468254   69.487503      0.367880\n",
       "...          ...        ...         ...           ...\n",
       "35995    59:59.5  31.591225   63.037498      0.365850\n",
       "35996    59:59.6  49.600544   59.174999      0.368818\n",
       "35997    59:59.7  45.665257  102.525002      0.381412\n",
       "35998    59:59.8  48.228031   65.699997      0.366440\n",
       "35999    59:59.9  20.098412  104.700005      0.375993\n",
       "\n",
       "[36000 rows x 4 columns]"
      ]
     },
     "execution_count": 45,
     "metadata": {},
     "output_type": "execute_result"
    }
   ],
   "source": [
    "df_pivot"
   ]
  }
 ],
 "metadata": {
  "kernelspec": {
   "display_name": "Python 3 (ipykernel)",
   "language": "python",
   "name": "python3"
  },
  "language_info": {
   "codemirror_mode": {
    "name": "ipython",
    "version": 3
   },
   "file_extension": ".py",
   "mimetype": "text/x-python",
   "name": "python",
   "nbconvert_exporter": "python",
   "pygments_lexer": "ipython3",
   "version": "3.10.13"
  }
 },
 "nbformat": 4,
 "nbformat_minor": 2
}
