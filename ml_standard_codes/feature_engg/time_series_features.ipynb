{
 "cells": [
  {
   "cell_type": "code",
   "execution_count": 52,
   "metadata": {},
   "outputs": [
    {
     "data": {
      "text/plain": [
       "'\\npandas\\nopenpyxl\\n'"
      ]
     },
     "execution_count": 52,
     "metadata": {},
     "output_type": "execute_result"
    }
   ],
   "source": [
    "# Installations:\n",
    "\"\"\"\n",
    "pandas\n",
    "openpyxl\n",
    "pyarrow\n",
    "\"\"\""
   ]
  },
  {
   "cell_type": "code",
   "execution_count": 1,
   "metadata": {},
   "outputs": [],
   "source": [
    "import pandas as pd\n",
    "import seaborn as sns\n"
   ]
  },
  {
   "cell_type": "code",
   "execution_count": 44,
   "metadata": {},
   "outputs": [],
   "source": [
    "# Variables\n",
    "filename = 'time_series_data.parquet'\n",
    "datetime = 'DateTime'\n",
    "tagname = 'TagName'\n",
    "value = 'Value'\n",
    "aggr_freq_l1 = '10s'"
   ]
  },
  {
   "cell_type": "code",
   "execution_count": 72,
   "metadata": {},
   "outputs": [],
   "source": [
    "def reads_parquet(filename:str) -> pd.DataFrame:\n",
    "    try:\n",
    "        df = pd.read_parquet(filename)\n",
    "        print(\"df.shape: \", df.shape)\n",
    "        return df\n",
    "    except Exception as e:\n",
    "        raise e"
   ]
  },
  {
   "cell_type": "code",
   "execution_count": 73,
   "metadata": {},
   "outputs": [],
   "source": [
    "def drops_null(df: pd.DataFrame) -> pd.DataFrame:   \n",
    "    if df.empty:\n",
    "        print(\"Dataframe is empty\")\n",
    "        return None\n",
    "    elif df.isnull().sum().sum() > 0:\n",
    "        try:\n",
    "            print(\"Before null removal, df.shape: \", df.shape)\n",
    "            df = df.dropna().reset_index(drop=True)\n",
    "            print(\"After null removal, df.shape: \", df.shape)\n",
    "            return df\n",
    "        except Exception as e:\n",
    "            raise e\n",
    "    else:\n",
    "        return df\n",
    "\n",
    "def drops_duplicate(df: pd.DataFrame) -> pd.DataFrame:  \n",
    "    if df.empty:\n",
    "        print(\"Dataframe is empty\")\n",
    "        return None\n",
    "    elif df.duplicated().sum() > 0:\n",
    "        try:\n",
    "            print(\"Before duplicate removal, df.shape: \", df.shape)\n",
    "            df = df.drop_duplicates(subset=[datetime, tagname]).reset_index(drop=True)\n",
    "            print(\"After duplicate removal, df.shape: \", df.shape)\n",
    "            return df\n",
    "        except Exception as e:\n",
    "            raise e\n",
    "    else:\n",
    "        return df"
   ]
  },
  {
   "cell_type": "code",
   "execution_count": 92,
   "metadata": {},
   "outputs": [],
   "source": [
    "def check_nulls_in_col(df:pd.DataFrame) -> list:\n",
    "    if not df.empty:\n",
    "        return [(x,y) for x, y in zip(df.isnull().sum().keys(), df.isnull().sum()) if y != 0]\n",
    "    else:\n",
    "        print(\"pass correct dataframe\")\n",
    "        pass\n",
    "\n",
    "def check_nulls_plot(df:pd.DataFrame):\n",
    "    sns.heatmap(df.isnull(), cbar=False, cmap='viridis')"
   ]
  },
  {
   "cell_type": "code",
   "execution_count": 80,
   "metadata": {},
   "outputs": [],
   "source": [
    "def pivots_data(df:pd.DataFrame) -> pd.DataFrame:\n",
    "    try:\n",
    "        print(\"Before pivot, df.shape: \", df.shape)\n",
    "        df_pivot = df.pivot(index=datetime, columns=tagname, values=value).reset_index().copy()\n",
    "        print(\"After pivot, df.shape: \", df_pivot.shape)\n",
    "        return df_pivot\n",
    "    except Exception as e:\n",
    "        raise e"
   ]
  },
  {
   "cell_type": "code",
   "execution_count": 88,
   "metadata": {},
   "outputs": [],
   "source": [
    "def groups_data(df:pd.DataFrame, aggr_freq_l1:str) -> pd.DataFrame:\n",
    "    try:\n",
    "        print(\"Before grouping, df.shape: \", df.shape)\n",
    "        df_grouped = df.groupby([pd.Grouper(key=datetime, freq=aggr_freq_l1)]).mean()\n",
    "        print(\"After grouping, df.shape: \", df_grouped.shape)\n",
    "        return df_grouped\n",
    "    except Exception as e:\n",
    "        raise e"
   ]
  },
  {
   "cell_type": "code",
   "execution_count": 91,
   "metadata": {},
   "outputs": [
    {
     "name": "stdout",
     "output_type": "stream",
     "text": [
      "df.shape:  (712070, 3)\n",
      "Before null removal, df.shape:  (712070, 3)\n",
      "After null removal, df.shape:  (712069, 3)\n"
     ]
    },
    {
     "data": {
      "text/html": [
       "<div>\n",
       "<style scoped>\n",
       "    .dataframe tbody tr th:only-of-type {\n",
       "        vertical-align: middle;\n",
       "    }\n",
       "\n",
       "    .dataframe tbody tr th {\n",
       "        vertical-align: top;\n",
       "    }\n",
       "\n",
       "    .dataframe thead th {\n",
       "        text-align: right;\n",
       "    }\n",
       "</style>\n",
       "<table border=\"1\" class=\"dataframe\">\n",
       "  <thead>\n",
       "    <tr style=\"text-align: right;\">\n",
       "      <th></th>\n",
       "      <th>DateTime</th>\n",
       "      <th>TagName</th>\n",
       "      <th>Value</th>\n",
       "    </tr>\n",
       "  </thead>\n",
       "  <tbody>\n",
       "    <tr>\n",
       "      <th>0</th>\n",
       "      <td>2023-10-05</td>\n",
       "      <td>Pressure</td>\n",
       "      <td>60.862499</td>\n",
       "    </tr>\n",
       "    <tr>\n",
       "      <th>1</th>\n",
       "      <td>2023-10-05</td>\n",
       "      <td>Bar Angle</td>\n",
       "      <td>38.530838</td>\n",
       "    </tr>\n",
       "  </tbody>\n",
       "</table>\n",
       "</div>"
      ],
      "text/plain": [
       "    DateTime    TagName      Value\n",
       "0 2023-10-05   Pressure  60.862499\n",
       "1 2023-10-05  Bar Angle  38.530838"
      ]
     },
     "metadata": {},
     "output_type": "display_data"
    },
    {
     "name": "stdout",
     "output_type": "stream",
     "text": [
      "Before pivot, df.shape:  (712069, 3)\n",
      "After pivot, df.shape:  (671761, 4)\n",
      "[('Bar Angle', 431443), ('Pressure', 440320), ('RS4R4 Height', 431451)]\n"
     ]
    },
    {
     "data": {
      "text/html": [
       "<div>\n",
       "<style scoped>\n",
       "    .dataframe tbody tr th:only-of-type {\n",
       "        vertical-align: middle;\n",
       "    }\n",
       "\n",
       "    .dataframe tbody tr th {\n",
       "        vertical-align: top;\n",
       "    }\n",
       "\n",
       "    .dataframe thead th {\n",
       "        text-align: right;\n",
       "    }\n",
       "</style>\n",
       "<table border=\"1\" class=\"dataframe\">\n",
       "  <thead>\n",
       "    <tr style=\"text-align: right;\">\n",
       "      <th>TagName</th>\n",
       "      <th>DateTime</th>\n",
       "      <th>Bar Angle</th>\n",
       "      <th>Pressure</th>\n",
       "      <th>RS4R4 Height</th>\n",
       "    </tr>\n",
       "  </thead>\n",
       "  <tbody>\n",
       "    <tr>\n",
       "      <th>0</th>\n",
       "      <td>2023-10-05 00:00:00.000</td>\n",
       "      <td>38.530838</td>\n",
       "      <td>60.862499</td>\n",
       "      <td>0.37324</td>\n",
       "    </tr>\n",
       "    <tr>\n",
       "      <th>1</th>\n",
       "      <td>2023-10-05 00:00:00.010</td>\n",
       "      <td>NaN</td>\n",
       "      <td>60.937500</td>\n",
       "      <td>NaN</td>\n",
       "    </tr>\n",
       "  </tbody>\n",
       "</table>\n",
       "</div>"
      ],
      "text/plain": [
       "TagName                DateTime  Bar Angle   Pressure  RS4R4 Height\n",
       "0       2023-10-05 00:00:00.000  38.530838  60.862499       0.37324\n",
       "1       2023-10-05 00:00:00.010        NaN  60.937500           NaN"
      ]
     },
     "metadata": {},
     "output_type": "display_data"
    },
    {
     "name": "stdout",
     "output_type": "stream",
     "text": [
      "Before grouping, df.shape:  (671761, 4)\n",
      "After grouping, df.shape:  (25904, 3)\n",
      "[('Pressure', 4)]\n"
     ]
    },
    {
     "data": {
      "text/html": [
       "<div>\n",
       "<style scoped>\n",
       "    .dataframe tbody tr th:only-of-type {\n",
       "        vertical-align: middle;\n",
       "    }\n",
       "\n",
       "    .dataframe tbody tr th {\n",
       "        vertical-align: top;\n",
       "    }\n",
       "\n",
       "    .dataframe thead th {\n",
       "        text-align: right;\n",
       "    }\n",
       "</style>\n",
       "<table border=\"1\" class=\"dataframe\">\n",
       "  <thead>\n",
       "    <tr style=\"text-align: right;\">\n",
       "      <th>TagName</th>\n",
       "      <th>Bar Angle</th>\n",
       "      <th>Pressure</th>\n",
       "      <th>RS4R4 Height</th>\n",
       "    </tr>\n",
       "    <tr>\n",
       "      <th>DateTime</th>\n",
       "      <th></th>\n",
       "      <th></th>\n",
       "      <th></th>\n",
       "    </tr>\n",
       "  </thead>\n",
       "  <tbody>\n",
       "    <tr>\n",
       "      <th>2023-10-05 00:00:00</th>\n",
       "      <td>38.479168</td>\n",
       "      <td>61.619999</td>\n",
       "      <td>0.369833</td>\n",
       "    </tr>\n",
       "    <tr>\n",
       "      <th>2023-10-05 00:00:10</th>\n",
       "      <td>38.549345</td>\n",
       "      <td>62.103750</td>\n",
       "      <td>0.369945</td>\n",
       "    </tr>\n",
       "  </tbody>\n",
       "</table>\n",
       "</div>"
      ],
      "text/plain": [
       "TagName              Bar Angle   Pressure  RS4R4 Height\n",
       "DateTime                                               \n",
       "2023-10-05 00:00:00  38.479168  61.619999      0.369833\n",
       "2023-10-05 00:00:10  38.549345  62.103750      0.369945"
      ]
     },
     "metadata": {},
     "output_type": "display_data"
    },
    {
     "name": "stdout",
     "output_type": "stream",
     "text": [
      "Before null removal, df.shape:  (25904, 3)\n",
      "After null removal, df.shape:  (25900, 3)\n"
     ]
    }
   ],
   "source": [
    "df = reads_parquet(filename)\n",
    "df = drops_null(df)\n",
    "df = drops_duplicate(df)\n",
    "display(df.head(2))\n",
    "\n",
    "df_pivot = pivots_data(df)\n",
    "print(check_nulls_in_col(df_pivot))\n",
    "display(df_pivot.head(2))\n",
    "\n",
    "df_grouped = groups_data(df_pivot, aggr_freq_l1)\n",
    "print(check_nulls_in_col(df_grouped))\n",
    "display(df_grouped.head(2))\n",
    "\n",
    "df_grouped = drops_null(df_grouped)"
   ]
  }
 ],
 "metadata": {
  "kernelspec": {
   "display_name": "Python 3 (ipykernel)",
   "language": "python",
   "name": "python3"
  },
  "language_info": {
   "codemirror_mode": {
    "name": "ipython",
    "version": 3
   },
   "file_extension": ".py",
   "mimetype": "text/x-python",
   "name": "python",
   "nbconvert_exporter": "python",
   "pygments_lexer": "ipython3",
   "version": "3.10.13"
  }
 },
 "nbformat": 4,
 "nbformat_minor": 2
}
