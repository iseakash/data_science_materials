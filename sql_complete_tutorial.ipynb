{
 "cells": [
  {
   "cell_type": "markdown",
   "id": "1153ed1a",
   "metadata": {},
   "source": [
    "# SQL Complete Tutorial"
   ]
  },
  {
   "cell_type": "markdown",
   "id": "cf76c911",
   "metadata": {},
   "source": [
    "## Interview Questions"
   ]
  },
  {
   "cell_type": "markdown",
   "id": "45e1515c",
   "metadata": {},
   "source": [
    "https://thedatamonk.com/sql-complete-tutorial-7-days-analytics-course/"
   ]
  },
  {
   "cell_type": "markdown",
   "id": "6b6a14cd",
   "metadata": {},
   "source": [
    "***1. What is SQL?***"
   ]
  },
  {
   "cell_type": "markdown",
   "id": "308572de",
   "metadata": {},
   "source": [
    "SQL stands for Structured Query Language. It is a standard programming language used for managing and manipulating relational databases."
   ]
  },
  {
   "cell_type": "markdown",
   "id": "8238dd4e",
   "metadata": {},
   "source": [
    "***2. Explain the difference between SQL and NoSQL databases.***"
   ]
  },
  {
   "cell_type": "markdown",
   "metadata": {},
   "source": [
    "SQL databases are relational databases, whereas NoSQL databases are non-relational and can store and retrieve data in ways other than tabular relations"
   ]
  },
  {
   "cell_type": "markdown",
   "metadata": {},
   "source": [
    "***3. What is a primary key?***"
   ]
  },
  {
   "cell_type": "markdown",
   "metadata": {},
   "source": [
    "A primary key is a unique identifier for each record in a table. It must contain unique values and cannot have NULL values."
   ]
  },
  {
   "cell_type": "markdown",
   "metadata": {},
   "source": [
    "***4. What is a foreign key?***"
   ]
  },
  {
   "cell_type": "markdown",
   "metadata": {},
   "source": [
    "A foreign key is a field in a table that refers to the primary key in another table, establishing a link between the two tables."
   ]
  },
  {
   "cell_type": "markdown",
   "metadata": {},
   "source": [
    "***5. What is normalization?***"
   ]
  },
  {
   "cell_type": "markdown",
   "metadata": {},
   "source": [
    "Normalization is the process of organizing data in a database to reduce redundancy and dependency."
   ]
  },
  {
   "cell_type": "markdown",
   "metadata": {},
   "source": [
    "***6. Explain the difference between INNER JOIN and LEFT JOIN.***"
   ]
  },
  {
   "cell_type": "markdown",
   "metadata": {},
   "source": [
    "INNER JOIN returns only the matching rows in both tables, while LEFT JOIN returns all rows from the left table and matching rows from the right table."
   ]
  },
  {
   "cell_type": "markdown",
   "id": "1ec6f923",
   "metadata": {},
   "source": [
    "***7. What is the purpose of the GROUP BY clause?***"
   ]
  },
  {
   "cell_type": "markdown",
   "id": "23c32c04",
   "metadata": {},
   "source": [
    "The GROUP BY clause is used to group rows that have the same values in specified columns into summary rows."
   ]
  },
  {
   "cell_type": "markdown",
   "id": "1df84aa3",
   "metadata": {},
   "source": [
    "***8. Explain the difference between WHERE and HAVING clauses.***"
   ]
  },
  {
   "cell_type": "markdown",
   "id": "e90d313f",
   "metadata": {},
   "source": [
    "WHERE is used to filter rows before grouping, and HAVING is used to filter groups after grouping has occurred."
   ]
  },
  {
   "cell_type": "markdown",
   "id": "b61cda72",
   "metadata": {},
   "source": [
    "***9. What is an index, and why is it important?***"
   ]
  },
  {
   "cell_type": "markdown",
   "id": "975a2674",
   "metadata": {},
   "source": [
    "An index is a data structure that improves the speed of data retrieval operations on a database table. It is important for efficient querying."
   ]
  },
  {
   "cell_type": "markdown",
   "id": "da142984",
   "metadata": {},
   "source": [
    "***10. What is a stored procedure?***"
   ]
  },
  {
   "cell_type": "markdown",
   "id": "175f9732",
   "metadata": {},
   "source": [
    "A stored procedure is a precompiled collection of one or more SQL statements that can be executed as a single unit."
   ]
  },
  {
   "cell_type": "markdown",
   "id": "a8b2dc27",
   "metadata": {},
   "source": [
    "***11. Explain ACID properties in the context of database transactions.***"
   ]
  },
  {
   "cell_type": "markdown",
   "id": "c733d393",
   "metadata": {},
   "source": [
    "ACID stands for Atomicity, Consistency, Isolation, and Durability. These properties ensure that database transactions are processed reliably."
   ]
  },
  {
   "cell_type": "markdown",
   "id": "f7f7b7cd",
   "metadata": {},
   "source": [
    "***12. What is a subquery?***"
   ]
  },
  {
   "cell_type": "markdown",
   "id": "1a7a0484",
   "metadata": {},
   "source": [
    "A subquery is a query nested inside another query. It can be used to retrieve data that will be used in the main query as a condition."
   ]
  },
  {
   "cell_type": "markdown",
   "id": "bb825af3",
   "metadata": {},
   "source": [
    "***13. What is a view?***"
   ]
  },
  {
   "cell_type": "markdown",
   "id": "64441502",
   "metadata": {},
   "source": [
    "A view is a virtual table based on the result of a SELECT query. It allows users to query the data in the view as if it were a table."
   ]
  },
  {
   "cell_type": "markdown",
   "id": "6c5b8e2e",
   "metadata": {},
   "source": [
    "***14. How do you find duplicate values in a table?***"
   ]
  },
  {
   "cell_type": "markdown",
   "id": "dfb97dd7",
   "metadata": {},
   "source": [
    "Using the GROUP BY and HAVING clauses or by using the DISTINCT keyword."
   ]
  },
  {
   "cell_type": "markdown",
   "id": "d95e1bea",
   "metadata": {},
   "source": [
    "***15. What is the difference between UNION and UNION ALL?***"
   ]
  },
  {
   "cell_type": "markdown",
   "id": "dfbd2317",
   "metadata": {},
   "source": [
    "UNION combines the result sets of two SELECT statements, removing duplicate rows, while UNION ALL includes all rows, including duplicates."
   ]
  },
  {
   "cell_type": "markdown",
   "id": "c0059c7e",
   "metadata": {},
   "source": [
    "***16. Explain the concept of a trigger.***"
   ]
  },
  {
   "cell_type": "markdown",
   "id": "a36b33bb",
   "metadata": {},
   "source": [
    "A trigger is a set of instructions that are automatically executed or fired in response to certain events on a particular table or view."
   ]
  },
  {
   "cell_type": "markdown",
   "id": "12dcd78a",
   "metadata": {},
   "source": [
    "***17. What is the purpose of the COMMIT statement?***"
   ]
  },
  {
   "cell_type": "markdown",
   "id": "287de704",
   "metadata": {},
   "source": [
    "The COMMIT statement is used to save all changes made during the current transaction."
   ]
  },
  {
   "cell_type": "markdown",
   "id": "5dd5f0a4",
   "metadata": {},
   "source": [
    "***18. What is the purpose of the ROLLBACK statement?***"
   ]
  },
  {
   "cell_type": "markdown",
   "id": "cecdc42e",
   "metadata": {},
   "source": [
    "The ROLLBACK statement is used to undo transactions that have not been saved to the database."
   ]
  },
  {
   "cell_type": "markdown",
   "id": "01e897d0",
   "metadata": {},
   "source": [
    "***19. How do you handle NULL values in SQL?***"
   ]
  },
  {
   "cell_type": "markdown",
   "id": "48712848",
   "metadata": {},
   "source": [
    "NULL is a special marker used to indicate that a data value does not exist in the database. To handle NULL values, you can use the IS NULL or IS NOT NULL conditions."
   ]
  },
  {
   "cell_type": "markdown",
   "id": "48431ee0",
   "metadata": {},
   "source": [
    "***20. What is the difference between CHAR and VARCHAR data types?***"
   ]
  },
  {
   "cell_type": "markdown",
   "id": "30e960f0",
   "metadata": {},
   "source": [
    "CHAR is a fixed-length character data type, while VARCHAR is a variable-length character data type. VARCHAR is more flexible as it only uses storage for the actual characters entered."
   ]
  },
  {
   "cell_type": "markdown",
   "id": "4c5e44a7",
   "metadata": {},
   "source": [
    "***21. ***"
   ]
  },
  {
   "cell_type": "code",
   "execution_count": null,
   "id": "0a93f496",
   "metadata": {
    "vscode": {
     "languageId": "plaintext"
    }
   },
   "outputs": [],
   "source": [
    "***21. ***"
   ]
  },
  {
   "cell_type": "code",
   "execution_count": null,
   "id": "045090f9",
   "metadata": {
    "vscode": {
     "languageId": "plaintext"
    }
   },
   "outputs": [],
   "source": [
    "***21. ***"
   ]
  },
  {
   "cell_type": "markdown",
   "id": "ad75f183",
   "metadata": {},
   "source": [
    "***21. ***"
   ]
  },
  {
   "cell_type": "markdown",
   "id": "de727e74",
   "metadata": {},
   "source": [
    "***21. ***"
   ]
  }
 ],
 "metadata": {
  "kernelspec": {
   "display_name": "Python 3 (ipykernel)",
   "language": "python",
   "name": "python3"
  },
  "language_info": {
   "codemirror_mode": {
    "name": "ipython",
    "version": 3
   },
   "file_extension": ".py",
   "mimetype": "text/x-python",
   "name": "python",
   "nbconvert_exporter": "python",
   "pygments_lexer": "ipython3",
   "version": "3.11.0"
  }
 },
 "nbformat": 4,
 "nbformat_minor": 5
}
