{
 "cells": [
  {
   "cell_type": "code",
   "execution_count": null,
   "id": "9744f003",
   "metadata": {},
   "outputs": [],
   "source": [
    "import requests\n",
    "import numpy as np\n",
    "\n",
    "EURI_API_KEY = \"\"\n",
    "def generate_embeddings(text):\n",
    "    url = \"https://api.euron.one/api/v1/euri/embeddings\"\n",
    "    headers = {\n",
    "        \"Content-Type\": \"application/json\",\n",
    "        \"Authorization\": f\"Bearer {EURI_API_KEY}\"\n",
    "    }\n",
    "    payload = {\n",
    "        \"input\": text,\n",
    "        \"model\": \"text-embedding-3-small\"\n",
    "    }\n",
    "\n",
    "    response = requests.post(url, headers=headers, json=payload)\n",
    "    data = response.json()\n",
    "    \n",
    "    embedding = np.array(data['data'][0]['embedding'])\n",
    "    \n",
    "    return embedding"
   ]
  },
  {
   "cell_type": "code",
   "execution_count": 9,
   "id": "c58c174c",
   "metadata": {},
   "outputs": [],
   "source": [
    "data = \"\"\" Making an Impact Helping Millions of Students Succeed\n",
    "Mentor's commitment to affordable education wasn't just a business strategy—it was his life's mission. Over the years, iNeuron has helped over 1.5 million students from 34+ countries, providing them with the skills they need to succeed in today's competitive job market. Many of these students, like the mentor himself, came from disadvantaged backgrounds. They saw iNeuron as a lifeline—an opportunity to rise above their circumstances.\n",
    "In 2022, iNeuron was acquired by PhysicsWallah in a deal worth ₹250 crore. While this acquisition was a significant milestone, mentor remained focused on his mission. Even after the acquisition, iNeuron continued to offer some of the most affordable and accessible tech courses in the world.\"\"\"\n",
    "\n",
    "clean_data = data.strip()\n",
    "max_char = 100\n",
    "overlap = 20\n",
    "chunks = []\n",
    "i = 0\n",
    "while i < len(clean_data):\n",
    "    piece = clean_data[i:i+max_char]\n",
    "    chunks.append(piece)\n",
    "    i = i+max_char-overlap"
   ]
  },
  {
   "cell_type": "code",
   "execution_count": 10,
   "id": "7ebb5fea",
   "metadata": {},
   "outputs": [
    {
     "name": "stdout",
     "output_type": "stream",
     "text": [
      "Chunk 1 embedding: [ 0.01125363 -0.04198496  0.03206514 ... -0.00965171 -0.00748008\n",
      " -0.00309157]\n",
      "Chunk 2 embedding: [ 0.00531732  0.01498619 -0.00798524 ... -0.00841447 -0.00369659\n",
      " -0.03715095]\n",
      "Chunk 3 embedding: [-0.02063813 -0.0040367   0.04868835 ... -0.01943952 -0.00559351\n",
      " -0.00585872]\n",
      "Chunk 4 embedding: [ 0.02577067 -0.00252622  0.08125098 ... -0.0271094  -0.02772728\n",
      "  0.03045624]\n",
      "Chunk 5 embedding: [-0.04099081  0.01827518  0.00186117 ... -0.01436205 -0.03385835\n",
      " -0.02304866]\n",
      "Chunk 6 embedding: [ 0.0034383  -0.00736026  0.01752108 ... -0.00409163 -0.04278076\n",
      "  0.0038498 ]\n",
      "Chunk 7 embedding: [-0.0210235  -0.06276387  0.02796912 ... -0.0342615   0.03359494\n",
      "  0.03884748]\n",
      "Chunk 8 embedding: [ 0.00959746 -0.02052073  0.03461861 ... -0.03847822 -0.00504548\n",
      "  0.0069495 ]\n",
      "Chunk 9 embedding: [-0.02211461 -0.01158347  0.02118793 ... -0.0145991  -0.00759404\n",
      "  0.00940028]\n",
      "Chunk 10 embedding: [-0.05103014  0.01305801 -0.01491092 ... -0.02556515  0.01165581\n",
      "  0.02030689]\n",
      "(10, 1536)\n"
     ]
    }
   ],
   "source": [
    "emb_list = []\n",
    "meta = []\n",
    "for idx, chunk in enumerate(chunks):\n",
    "    vec = generate_embeddings(chunk)\n",
    "    print(f\"Chunk {idx+1} embedding: {vec}\")\n",
    "    emb_list.append(vec.astype(\"float32\"))\n",
    "    meta.append({\"id\":idx, \"text\":chunk})\n",
    "xb = np.vstack(emb_list)\n",
    "d = xb.shape[1]\n",
    "print(xb.shape)"
   ]
  },
  {
   "cell_type": "code",
   "execution_count": null,
   "id": "0af1e6a7",
   "metadata": {},
   "outputs": [
    {
     "name": "stdout",
     "output_type": "stream",
     "text": [
      "collections=[CollectionDescription(name='akash_story')]\n"
     ]
    },
    {
     "name": "stderr",
     "output_type": "stream",
     "text": [
      "/tmp/ipykernel_7926/174955392.py:11: DeprecationWarning: `recreate_collection` method is deprecated and will be removed in the future. Use `collection_exists` to check collection existence and `create_collection` instead.\n",
      "  qdrant_client.recreate_collection( # use latest syntax\n"
     ]
    },
    {
     "data": {
      "text/plain": [
       "True"
      ]
     },
     "execution_count": 13,
     "metadata": {},
     "output_type": "execute_result"
    }
   ],
   "source": [
    "from qdrant_client import QdrantClient # qdrant tech https://qdrant.tech/\n",
    "\n",
    "qdrant_client = QdrantClient(\n",
    "    url=\"https://85fb270d-b666-4744-8618-a1dccc49b88a.europe-west3-0.gcp.cloud.qdrant.io:6333\", \n",
    "    api_key=\"\",\n",
    ")\n",
    "print(qdrant_client.get_collections())\n",
    "\n",
    "from qdrant_client import models\n",
    "collection_name = 'akash_story'  # table name\n",
    "qdrant_client.recreate_collection( # use latest syntax\n",
    "    collection_name=collection_name,  # define vector size as 1536 and use cosine search for similarity\n",
    "    vectors_config=models.VectorParams(size=1536, distance=models.Distance.COSINE)) ## no need to normalize manually"
   ]
  },
  {
   "cell_type": "code",
   "execution_count": 14,
   "id": "d2478151",
   "metadata": {},
   "outputs": [
    {
     "name": "stderr",
     "output_type": "stream",
     "text": [
      "/tmp/ipykernel_7926/3278905319.py:13: DeprecationWarning: `search` method is deprecated and will be removed in the future. Use `query_points` instead.\n",
      "  qdrant_client.search(collection_name=collection_name, query_vector=q, limit=3, with_payload=True)\n"
     ]
    },
    {
     "data": {
      "text/plain": [
       "[ScoredPoint(id=8, version=0, score=0.48216456, payload={'text': 'ed on his mission. Even after the acquisition, iNeuron continued to offer some of the most affordabl'}, vector=None, shard_key=None, order_value=None),\n",
       " ScoredPoint(id=2, version=0, score=0.45979592, payload={'text': 'r the years, iNeuron has helped over 1.5 million students from 34+ countries, providing them with th'}, vector=None, shard_key=None, order_value=None),\n",
       " ScoredPoint(id=5, version=0, score=0.44321448, payload={'text': 'ckgrounds. They saw iNeuron as a lifeline—an opportunity to rise above their circumstances.\\nIn 2022,'}, vector=None, shard_key=None, order_value=None)]"
      ]
     },
     "execution_count": 14,
     "metadata": {},
     "output_type": "execute_result"
    }
   ],
   "source": [
    "points = [] ### perpare the data inside point list\n",
    "for idx, (chunk, emb) in enumerate(zip(chunks, xb)):\n",
    "    points.append(\n",
    "        models.PointStruct(\n",
    "            id=idx,\n",
    "            vector=emb.astype(\"float32\").tolist(),\n",
    "            payload={\"text\":chunk}\n",
    "        )\n",
    "    )\n",
    "qdrant_client.upsert(collection_name=collection_name, points=points)  ## add records into Qdrant\n",
    "query = \"What is the mission of ineuron?\"\n",
    "q = np.array(generate_embeddings(query)).astype(\"float32\")\n",
    "qdrant_client.search(collection_name=collection_name, query_vector=q, limit=3, with_payload=True)"
   ]
  },
  {
   "cell_type": "code",
   "execution_count": null,
   "id": "9eb4dc52",
   "metadata": {},
   "outputs": [],
   "source": []
  }
 ],
 "metadata": {
  "kernelspec": {
   "display_name": "Python 3",
   "language": "python",
   "name": "python3"
  },
  "language_info": {
   "codemirror_mode": {
    "name": "ipython",
    "version": 3
   },
   "file_extension": ".py",
   "mimetype": "text/x-python",
   "name": "python",
   "nbconvert_exporter": "python",
   "pygments_lexer": "ipython3",
   "version": "3.12.1"
  }
 },
 "nbformat": 4,
 "nbformat_minor": 5
}
