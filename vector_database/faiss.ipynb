{
 "cells": [
  {
   "cell_type": "code",
   "execution_count": null,
   "id": "9744f003",
   "metadata": {},
   "outputs": [],
   "source": [
    "import requests\n",
    "import numpy as np\n",
    "\n",
    "EURI_API_KEY = \"\"\n",
    "def generate_embeddings(text):\n",
    "    url = \"https://api.euron.one/api/v1/euri/embeddings\"\n",
    "    headers = {\n",
    "        \"Content-Type\": \"application/json\",\n",
    "        \"Authorization\": f\"Bearer {EURI_API_KEY}\"\n",
    "    }\n",
    "    payload = {\n",
    "        \"input\": text,\n",
    "        \"model\": \"text-embedding-3-small\"\n",
    "    }\n",
    "\n",
    "    response = requests.post(url, headers=headers, json=payload)\n",
    "    data = response.json()\n",
    "    \n",
    "    embedding = np.array(data['data'][0]['embedding'])\n",
    "    \n",
    "    return embedding"
   ]
  },
  {
   "cell_type": "code",
   "execution_count": 2,
   "id": "c58c174c",
   "metadata": {},
   "outputs": [],
   "source": [
    "data = \"\"\" Making an Impact Helping Millions of Students Succeed\n",
    "Mentor's commitment to affordable education wasn't just a business strategy—it was his life's mission. Over the years, iNeuron has helped over 1.5 million students from 34+ countries, providing them with the skills they need to succeed in today's competitive job market. Many of these students, like the mentor himself, came from disadvantaged backgrounds. They saw iNeuron as a lifeline—an opportunity to rise above their circumstances.\n",
    "In 2022, iNeuron was acquired by PhysicsWallah in a deal worth ₹250 crore. While this acquisition was a significant milestone, mentor remained focused on his mission. Even after the acquisition, iNeuron continued to offer some of the most affordable and accessible tech courses in the world.\"\"\"\n",
    "\n",
    "clean_data = data.strip()\n",
    "max_char = 100\n",
    "overlap = 20\n",
    "chunks = []\n",
    "i = 0\n",
    "while i < len(clean_data):\n",
    "    piece = clean_data[i:i+max_char]\n",
    "    chunks.append(piece)\n",
    "    i = i+max_char-overlap"
   ]
  },
  {
   "cell_type": "code",
   "execution_count": 3,
   "id": "7ebb5fea",
   "metadata": {},
   "outputs": [
    {
     "name": "stdout",
     "output_type": "stream",
     "text": [
      "Chunk 1 embedding: [ 0.01125363 -0.04198496  0.03206514 ... -0.00965171 -0.00748008\n",
      " -0.00309157]\n",
      "Chunk 2 embedding: [ 0.00531732  0.01498619 -0.00798524 ... -0.00841447 -0.00369659\n",
      " -0.03715095]\n",
      "Chunk 3 embedding: [-0.02063813 -0.0040367   0.04868835 ... -0.01943952 -0.00559351\n",
      " -0.00585872]\n",
      "Chunk 4 embedding: [ 0.02577067 -0.00252622  0.08125098 ... -0.0271094  -0.02772728\n",
      "  0.03045624]\n",
      "Chunk 5 embedding: [-0.04102746  0.01827915  0.00184943 ... -0.01435128 -0.03389346\n",
      " -0.02301202]\n",
      "Chunk 6 embedding: [ 0.00344221 -0.00734469  0.01752116 ... -0.00409945 -0.04278097\n",
      "  0.00384982]\n",
      "Chunk 7 embedding: [-0.0210235  -0.06276387  0.02796912 ... -0.0342615   0.03359494\n",
      "  0.03884748]\n",
      "Chunk 8 embedding: [ 0.00960911 -0.02048472  0.03460754 ... -0.03849536 -0.00506964\n",
      "  0.00691783]\n",
      "Chunk 9 embedding: [-0.0221011  -0.01159247  0.02120574 ... -0.01461626 -0.00757124\n",
      "  0.00940121]\n",
      "Chunk 10 embedding: [-0.05103014  0.01305801 -0.01491092 ... -0.02556515  0.01165581\n",
      "  0.02030689]\n",
      "(10, 1536)\n"
     ]
    }
   ],
   "source": [
    "emb_list = []\n",
    "meta = []\n",
    "for idx, chunk in enumerate(chunks):\n",
    "    vec = generate_embeddings(chunk)\n",
    "    print(f\"Chunk {idx+1} embedding: {vec}\")\n",
    "    emb_list.append(vec.astype(\"float32\"))\n",
    "    meta.append({\"id\":idx, \"text\":chunk})\n",
    "xb = np.vstack(emb_list)\n",
    "d = xb.shape[1]\n",
    "print(xb.shape)"
   ]
  },
  {
   "cell_type": "code",
   "execution_count": null,
   "id": "df1c6721",
   "metadata": {},
   "outputs": [],
   "source": [
    "import faiss\n",
    "# faiss.normalize_L2(xb)\n",
    "index = faiss.IndexFlatIP(d) ### define dimension of the dataset (find dot product by default)\n",
    "index.add(xb)\n",
    "### Storing my dataset (embeddings and meta data)\n",
    "index_path = 'data/index.faiss'\n",
    "meta_path = 'data/meta_data.json'\n",
    "faiss.write_index(index, index_path)\n",
    "import json, os\n",
    "with open(meta_path, \"w\") as f:\n",
    "    for item in meta:\n",
    "        f.write(json.dumps(item) + \"\\n\")"
   ]
  },
  {
   "cell_type": "code",
   "execution_count": 6,
   "id": "f81b8793",
   "metadata": {},
   "outputs": [
    {
     "data": {
      "text/plain": [
       "(array([[0.48216653, 0.45979583, 0.44330272]], dtype=float32),\n",
       " array([[8, 2, 5]]))"
      ]
     },
     "execution_count": 6,
     "metadata": {},
     "output_type": "execute_result"
    }
   ],
   "source": [
    "query = \"What is the mission of ineuron?\"\n",
    "q = generate_embeddings(query).astype(\"float32\").reshape(1,-1)\n",
    "faiss.normalize_L2(q) ## using equilidean distance\n",
    "index.search(q, 3)"
   ]
  },
  {
   "cell_type": "code",
   "execution_count": null,
   "id": "9eb4dc52",
   "metadata": {},
   "outputs": [],
   "source": []
  }
 ],
 "metadata": {
  "kernelspec": {
   "display_name": "Python 3",
   "language": "python",
   "name": "python3"
  },
  "language_info": {
   "codemirror_mode": {
    "name": "ipython",
    "version": 3
   },
   "file_extension": ".py",
   "mimetype": "text/x-python",
   "name": "python",
   "nbconvert_exporter": "python",
   "pygments_lexer": "ipython3",
   "version": "3.12.1"
  }
 },
 "nbformat": 4,
 "nbformat_minor": 5
}
